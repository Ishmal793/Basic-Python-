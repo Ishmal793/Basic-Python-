{
  "nbformat": 4,
  "nbformat_minor": 0,
  "metadata": {
    "colab": {
      "provenance": []
    },
    "kernelspec": {
      "name": "python3",
      "display_name": "Python 3"
    },
    "language_info": {
      "name": "python"
    }
  },
  "cells": [
    {
      "cell_type": "markdown",
      "source": [
        "##  **Python Basics**"
      ],
      "metadata": {
        "id": "Y8BSsy_DPDzF"
      }
    },
    {
      "cell_type": "markdown",
      "source": [
        "**print statement**"
      ],
      "metadata": {
        "id": "rUyQTlGfPYIq"
      }
    },
    {
      "cell_type": "code",
      "execution_count": null,
      "metadata": {
        "colab": {
          "base_uri": "https://localhost:8080/"
        },
        "id": "TaI4fKMXO-6s",
        "outputId": "f54f2745-a13c-4319-97cc-992dfce89e2b"
      },
      "outputs": [
        {
          "output_type": "stream",
          "name": "stdout",
          "text": [
            "hello\n",
            " hello  \n",
            "                       world \n",
            "123456\n"
          ]
        }
      ],
      "source": [
        "# string values is in \"\" ''  and \"\"\"\"\"\" for multiline print sentences\n",
        "print(\"hello\")\n",
        "print(''' hello\n",
        "                       world ''')\n",
        "print( 123456)"
      ]
    },
    {
      "cell_type": "code",
      "source": [
        "print ('it's going to rain today')"
      ],
      "metadata": {
        "colab": {
          "base_uri": "https://localhost:8080/",
          "height": 106
        },
        "id": "7FcbIIwCRN7l",
        "outputId": "418aa133-2101-4990-cc32-fa66c7ca0c6b"
      },
      "execution_count": null,
      "outputs": [
        {
          "output_type": "error",
          "ename": "SyntaxError",
          "evalue": "unterminated string literal (detected at line 1) (<ipython-input-45-df071f3ba262>, line 1)",
          "traceback": [
            "\u001b[0;36m  File \u001b[0;32m\"<ipython-input-45-df071f3ba262>\"\u001b[0;36m, line \u001b[0;32m1\u001b[0m\n\u001b[0;31m    print ('it's going to rain today')\u001b[0m\n\u001b[0m                                    ^\u001b[0m\n\u001b[0;31mSyntaxError\u001b[0m\u001b[0;31m:\u001b[0m unterminated string literal (detected at line 1)\n"
          ]
        }
      ]
    },
    {
      "cell_type": "code",
      "source": [
        "print ('it\\'s going to rain today')\n"
      ],
      "metadata": {
        "colab": {
          "base_uri": "https://localhost:8080/"
        },
        "id": "QCK-Zc5KPxeX",
        "outputId": "30b3cc76-42ce-4ccf-9594-c079bd72d7aa"
      },
      "execution_count": null,
      "outputs": [
        {
          "output_type": "stream",
          "name": "stdout",
          "text": [
            "it's going to rain today\n"
          ]
        }
      ]
    },
    {
      "cell_type": "code",
      "source": [
        "print (\"it's going to rain today\")"
      ],
      "metadata": {
        "colab": {
          "base_uri": "https://localhost:8080/"
        },
        "id": "jbbOdz4GQ5BT",
        "outputId": "3e79d59c-bfef-4bd8-a2c7-b0547ec91ba2"
      },
      "execution_count": null,
      "outputs": [
        {
          "output_type": "stream",
          "name": "stdout",
          "text": [
            "it's going to rain today\n"
          ]
        }
      ]
    },
    {
      "cell_type": "markdown",
      "source": [
        "**comments**"
      ],
      "metadata": {
        "id": "7GuI5H7yRbMu"
      }
    },
    {
      "cell_type": "code",
      "source": [
        "#  in this page i will see two numbers\n",
        "# single line comment\n",
        "''' doulple line and\n",
        "multiple\n",
        "lines\n",
        "comments'''\n"
      ],
      "metadata": {
        "colab": {
          "base_uri": "https://localhost:8080/",
          "height": 35
        },
        "id": "q2UILNymRRqB",
        "outputId": "c94029c2-175d-4981-bfc4-d1de67ed7955"
      },
      "execution_count": null,
      "outputs": [
        {
          "output_type": "execute_result",
          "data": {
            "text/plain": [
              "' doulple line and \\nmultiple \\nlines\\ncomments'"
            ],
            "application/vnd.google.colaboratory.intrinsic+json": {
              "type": "string"
            }
          },
          "metadata": {},
          "execution_count": 48
        }
      ]
    },
    {
      "cell_type": "markdown",
      "source": [
        "**variables **"
      ],
      "metadata": {
        "id": "ipDAdWTPR58G"
      }
    },
    {
      "cell_type": "code",
      "source": [
        "# placeholder\n",
        "# case sensitive\n",
        "# make shorw no space  * even number *.. can use _ under score  even_number\n",
        "# can not  be start with number 12334 but can be * num1 num_2 * and special number @%$\n",
        "a=12\n",
        "print(a)"
      ],
      "metadata": {
        "colab": {
          "base_uri": "https://localhost:8080/"
        },
        "id": "qXJQ8bo7SJEZ",
        "outputId": "5f610291-7fc0-4aff-d0ae-86b18254e7ef"
      },
      "execution_count": null,
      "outputs": [
        {
          "output_type": "stream",
          "name": "stdout",
          "text": [
            "12\n"
          ]
        }
      ]
    },
    {
      "cell_type": "code",
      "source": [
        "a=\"hello\"\n",
        "print(a)"
      ],
      "metadata": {
        "colab": {
          "base_uri": "https://localhost:8080/"
        },
        "id": "5fWSUxIPSOjM",
        "outputId": "98d2ba6c-28d7-4169-daea-42fbbc7750d5"
      },
      "execution_count": null,
      "outputs": [
        {
          "output_type": "stream",
          "name": "stdout",
          "text": [
            "hello\n"
          ]
        }
      ]
    },
    {
      "cell_type": "markdown",
      "source": [
        "**Data types and user input**"
      ],
      "metadata": {
        "id": "3HfCoQOiTBaP"
      }
    },
    {
      "cell_type": "code",
      "source": [
        "# user input\n",
        "name =input (\"enter your name : \")\n",
        "print(name)"
      ],
      "metadata": {
        "colab": {
          "base_uri": "https://localhost:8080/"
        },
        "id": "nKZMK4yJS_7T",
        "outputId": "584c87c1-2fc9-4fc5-8c89-b3bc91c375e3"
      },
      "execution_count": null,
      "outputs": [
        {
          "output_type": "stream",
          "name": "stdout",
          "text": [
            "enter your namejon\n",
            "jon\n"
          ]
        }
      ]
    },
    {
      "cell_type": "code",
      "source": [
        "age =int(input (\"enter your age : \"))\n",
        "print(age)"
      ],
      "metadata": {
        "colab": {
          "base_uri": "https://localhost:8080/"
        },
        "id": "zqicUSkkToN9",
        "outputId": "649f0921-e2d9-42b4-b91a-1713016565a6"
      },
      "execution_count": null,
      "outputs": [
        {
          "output_type": "stream",
          "name": "stdout",
          "text": [
            "enter your age19\n",
            "19\n"
          ]
        }
      ]
    },
    {
      "cell_type": "code",
      "source": [
        "# string\n",
        "# default enter value in string\n",
        "# floating poits 0.234, 23.5 if the user can gives value in decimal"
      ],
      "metadata": {
        "id": "RtqNX1acTwht"
      },
      "execution_count": null,
      "outputs": []
    },
    {
      "cell_type": "code",
      "source": [
        "lenght =float(input (\"enter your lenght\"))\n",
        "print(lenght)"
      ],
      "metadata": {
        "colab": {
          "base_uri": "https://localhost:8080/"
        },
        "id": "oZ1n6jc2UWbx",
        "outputId": "760f4064-5af9-45e4-ba38-4299dba9d1ed"
      },
      "execution_count": null,
      "outputs": [
        {
          "output_type": "stream",
          "name": "stdout",
          "text": [
            "enter your lenght12.345\n",
            "12.345\n"
          ]
        }
      ]
    },
    {
      "cell_type": "code",
      "source": [
        "ep1=eval(input(\"enter your ep1 \"))\n",
        "print(ep1)"
      ],
      "metadata": {
        "colab": {
          "base_uri": "https://localhost:8080/"
        },
        "id": "VfPdrQ8TUd8O",
        "outputId": "bdfc96cd-700d-405b-849c-64216f53a202"
      },
      "execution_count": null,
      "outputs": [
        {
          "output_type": "stream",
          "name": "stdout",
          "text": [
            "enter your ep1 4+5\n",
            "9\n"
          ]
        }
      ]
    },
    {
      "cell_type": "code",
      "source": [
        "ep1=eval(input(\"enter your ep1 \"))\n",
        "print(ep1)"
      ],
      "metadata": {
        "colab": {
          "base_uri": "https://localhost:8080/"
        },
        "id": "ufsyhd4CUsju",
        "outputId": "36ffcf8e-31e1-4553-8c73-587d22069747"
      },
      "execution_count": null,
      "outputs": [
        {
          "output_type": "stream",
          "name": "stdout",
          "text": [
            "enter your ep1 print(\"hello\")\n",
            "hello\n",
            "None\n"
          ]
        }
      ]
    },
    {
      "cell_type": "markdown",
      "source": [
        "**typecastig and subtypes**"
      ],
      "metadata": {
        "id": "c-eUsqmzU_V2"
      }
    },
    {
      "cell_type": "code",
      "source": [
        "# conversion of one datatype to another is called type-casting"
      ],
      "metadata": {
        "id": "Z-lZQrrXVD1e"
      },
      "execution_count": null,
      "outputs": []
    },
    {
      "cell_type": "code",
      "source": [
        "name=\"jon\"\n",
        "print (type(name))"
      ],
      "metadata": {
        "colab": {
          "base_uri": "https://localhost:8080/"
        },
        "id": "b5_aUMH2V6Z9",
        "outputId": "98ea2578-0d00-49ab-b4cf-b4b5ca054e48"
      },
      "execution_count": null,
      "outputs": [
        {
          "output_type": "stream",
          "name": "stdout",
          "text": [
            "<class 'str'>\n"
          ]
        }
      ]
    },
    {
      "cell_type": "code",
      "source": [
        "# Implicit type casting convertion : where python itself converts one datatype to another\n",
        "# Explicit type casting convertion : where the user converts one data to another"
      ],
      "metadata": {
        "id": "6mtOZ8LGVYE2"
      },
      "execution_count": null,
      "outputs": []
    },
    {
      "cell_type": "code",
      "source": [
        "# Implicit\n",
        "a=123\n",
        "b=1.234\n",
        "print(type(a)) # int\n",
        "print(type(b)) # float\n",
        "c=a+b\n",
        "print(c)\n",
        "print(type(c)) # float"
      ],
      "metadata": {
        "colab": {
          "base_uri": "https://localhost:8080/"
        },
        "id": "FK8PoRMYVv5C",
        "outputId": "d9346dc4-f9d6-41ff-d38b-cf6cbebbd8c4"
      },
      "execution_count": null,
      "outputs": [
        {
          "output_type": "stream",
          "name": "stdout",
          "text": [
            "<class 'int'>\n",
            "<class 'float'>\n",
            "124.234\n",
            "<class 'float'>\n"
          ]
        }
      ]
    },
    {
      "cell_type": "code",
      "source": [
        "a=\"123\" # throw an error so we use explicit typecasting in it\n",
        "b=1.234\n",
        "print(type(a)) # int\n",
        "print(type(b)) # float\n",
        "c=a+b\n",
        "print(c)\n",
        "print(type(c)) # float"
      ],
      "metadata": {
        "colab": {
          "base_uri": "https://localhost:8080/",
          "height": 245
        },
        "id": "AmjWWXwQVvR8",
        "outputId": "e3c463bf-65cc-4ca9-f5de-08250bfdd20f"
      },
      "execution_count": null,
      "outputs": [
        {
          "output_type": "stream",
          "name": "stdout",
          "text": [
            "<class 'str'>\n",
            "<class 'float'>\n"
          ]
        },
        {
          "output_type": "error",
          "ename": "TypeError",
          "evalue": "can only concatenate str (not \"float\") to str",
          "traceback": [
            "\u001b[0;31m---------------------------------------------------------------------------\u001b[0m",
            "\u001b[0;31mTypeError\u001b[0m                                 Traceback (most recent call last)",
            "\u001b[0;32m<ipython-input-61-5b2521bc1ad1>\u001b[0m in \u001b[0;36m<cell line: 0>\u001b[0;34m()\u001b[0m\n\u001b[1;32m      3\u001b[0m \u001b[0mprint\u001b[0m\u001b[0;34m(\u001b[0m\u001b[0mtype\u001b[0m\u001b[0;34m(\u001b[0m\u001b[0ma\u001b[0m\u001b[0;34m)\u001b[0m\u001b[0;34m)\u001b[0m \u001b[0;31m# int\u001b[0m\u001b[0;34m\u001b[0m\u001b[0;34m\u001b[0m\u001b[0m\n\u001b[1;32m      4\u001b[0m \u001b[0mprint\u001b[0m\u001b[0;34m(\u001b[0m\u001b[0mtype\u001b[0m\u001b[0;34m(\u001b[0m\u001b[0mb\u001b[0m\u001b[0;34m)\u001b[0m\u001b[0;34m)\u001b[0m \u001b[0;31m# float\u001b[0m\u001b[0;34m\u001b[0m\u001b[0;34m\u001b[0m\u001b[0m\n\u001b[0;32m----> 5\u001b[0;31m \u001b[0mc\u001b[0m\u001b[0;34m=\u001b[0m\u001b[0ma\u001b[0m\u001b[0;34m+\u001b[0m\u001b[0mb\u001b[0m\u001b[0;34m\u001b[0m\u001b[0;34m\u001b[0m\u001b[0m\n\u001b[0m\u001b[1;32m      6\u001b[0m \u001b[0mprint\u001b[0m\u001b[0;34m(\u001b[0m\u001b[0mc\u001b[0m\u001b[0;34m)\u001b[0m\u001b[0;34m\u001b[0m\u001b[0;34m\u001b[0m\u001b[0m\n\u001b[1;32m      7\u001b[0m \u001b[0mprint\u001b[0m\u001b[0;34m(\u001b[0m\u001b[0mtype\u001b[0m\u001b[0;34m(\u001b[0m\u001b[0mc\u001b[0m\u001b[0;34m)\u001b[0m\u001b[0;34m)\u001b[0m \u001b[0;31m# float\u001b[0m\u001b[0;34m\u001b[0m\u001b[0;34m\u001b[0m\u001b[0m\n",
            "\u001b[0;31mTypeError\u001b[0m: can only concatenate str (not \"float\") to str"
          ]
        }
      ]
    },
    {
      "cell_type": "code",
      "source": [
        "a=\"1245\"\n",
        "b=1.234\n",
        "print(type(a)) # string\n",
        "print(type(b)) # float\n",
        "a=int(a)\n",
        "print(\"After convertion a is \",type(a))\n",
        "c=a+b\n",
        "print(c)\n",
        "print(type(c)) # float"
      ],
      "metadata": {
        "id": "7quXPq-cWxKb"
      },
      "execution_count": null,
      "outputs": []
    },
    {
      "cell_type": "markdown",
      "source": [
        "**operators and operands**"
      ],
      "metadata": {
        "id": "ifrBxXtzbGF6"
      }
    },
    {
      "cell_type": "code",
      "source": [
        "# operators\n",
        "# + - * / % // **\n",
        "# // floor division\n",
        "# ** power"
      ],
      "metadata": {
        "id": "vG_84ZOubL2q"
      },
      "execution_count": null,
      "outputs": []
    },
    {
      "cell_type": "code",
      "source": [
        "# Arithmetic operator\n",
        "a=4\n",
        "b=2\n",
        "print(a+b)\n",
        "print(a-b)\n",
        "print(a*b)\n",
        "print(a/b)\n",
        "print(a%b)\n",
        "print(a//b) # without point value\n",
        "print(a**b)"
      ],
      "metadata": {
        "colab": {
          "base_uri": "https://localhost:8080/"
        },
        "id": "3QuQGkiFiAxq",
        "outputId": "13390e64-0082-4cde-9622-ef41b67ea8f7"
      },
      "execution_count": 2,
      "outputs": [
        {
          "output_type": "stream",
          "name": "stdout",
          "text": [
            "6\n",
            "2\n",
            "8\n",
            "2.0\n",
            "0\n",
            "2\n",
            "16\n"
          ]
        }
      ]
    },
    {
      "cell_type": "code",
      "source": [
        "# comparison operators\n",
        "print (a==b)\n",
        "print (a!=b)\n",
        "print (a>b)\n",
        "print (a<b)\n",
        "print (a>=b)\n",
        "print (a<=b)"
      ],
      "metadata": {
        "colab": {
          "base_uri": "https://localhost:8080/"
        },
        "id": "V4wORuR4jAT4",
        "outputId": "19811941-f984-4943-bc1b-5bb905aaf6e1"
      },
      "execution_count": 3,
      "outputs": [
        {
          "output_type": "stream",
          "name": "stdout",
          "text": [
            "False\n",
            "True\n",
            "True\n",
            "False\n",
            "True\n",
            "False\n"
          ]
        }
      ]
    },
    {
      "cell_type": "code",
      "source": [
        "# logical operators\n",
        "print(a==b and a>b)\n",
        "print(3==3 and 8>7)\n",
        "print(a==b or a>b)\n",
        "print(not a==b)\n",
        "print (not (3==3 and 8>7))"
      ],
      "metadata": {
        "colab": {
          "base_uri": "https://localhost:8080/"
        },
        "id": "UwC9jNcRjodX",
        "outputId": "a17fa3fa-b24e-4473-e6e3-3418fcf86c5e"
      },
      "execution_count": 7,
      "outputs": [
        {
          "output_type": "stream",
          "name": "stdout",
          "text": [
            "False\n",
            "True\n",
            "True\n",
            "True\n",
            "False\n"
          ]
        }
      ]
    },
    {
      "cell_type": "code",
      "source": [
        "# Assignmet operators\n",
        "# for asign value\n",
        "score=0\n",
        "score=score+1\n",
        "print(score)\n",
        "score+=1\n",
        "print(score)\n",
        "score-=1\n",
        "print(score)\n",
        "score*=2\n",
        "print(score)\n",
        "score/=2\n",
        "print(score)\n",
        "score%=2\n",
        "print(score)\n"
      ],
      "metadata": {
        "colab": {
          "base_uri": "https://localhost:8080/"
        },
        "id": "0RBC5i52kqJh",
        "outputId": "3a6e9f48-83e0-4d57-fca0-b4cc8278ac79"
      },
      "execution_count": 9,
      "outputs": [
        {
          "output_type": "stream",
          "name": "stdout",
          "text": [
            "1\n",
            "2\n",
            "1\n",
            "2\n",
            "1.0\n",
            "1.0\n"
          ]
        }
      ]
    },
    {
      "cell_type": "code",
      "source": [
        "# Identity Operators\n",
        "# types of identity operators\n",
        "# is\n",
        "# is not"
      ],
      "metadata": {
        "id": "1DiHVCWVnaDG"
      },
      "execution_count": null,
      "outputs": []
    },
    {
      "cell_type": "code",
      "source": [
        "a=123 # int\n",
        "b=\"123\" #string\n",
        "print(a is b)\n",
        "print(a is not b)"
      ],
      "metadata": {
        "colab": {
          "base_uri": "https://localhost:8080/"
        },
        "id": "IROi0mhwniIv",
        "outputId": "c00afc8b-f395-44b7-b0f2-2ac97e96be53"
      },
      "execution_count": 10,
      "outputs": [
        {
          "output_type": "stream",
          "name": "stdout",
          "text": [
            "False\n",
            "True\n"
          ]
        }
      ]
    },
    {
      "cell_type": "code",
      "source": [
        "a=123\n",
        "b=123\n",
        "print(a is b)\n",
        "print(a is not b)"
      ],
      "metadata": {
        "colab": {
          "base_uri": "https://localhost:8080/"
        },
        "id": "7bjlpv9vnoKD",
        "outputId": "c93c770c-8eea-4c9c-9c6a-072cb06389b3"
      },
      "execution_count": 11,
      "outputs": [
        {
          "output_type": "stream",
          "name": "stdout",
          "text": [
            "True\n",
            "False\n"
          ]
        }
      ]
    },
    {
      "cell_type": "code",
      "source": [
        "# bitwise operators\n",
        "# 0 1  off on\n",
        "# << >> & | ^ ~"
      ],
      "metadata": {
        "id": "HNTWiYZDnwjL"
      },
      "execution_count": null,
      "outputs": []
    },
    {
      "cell_type": "code",
      "source": [
        "print(bin(10))\n",
        "print(bin(15))"
      ],
      "metadata": {
        "colab": {
          "base_uri": "https://localhost:8080/"
        },
        "id": "h3dPUil6oDYp",
        "outputId": "1df140ac-5b14-4f0b-f702-74a914db8513"
      },
      "execution_count": 13,
      "outputs": [
        {
          "output_type": "stream",
          "name": "stdout",
          "text": [
            "0b1010\n",
            "0b1111\n"
          ]
        }
      ]
    },
    {
      "cell_type": "code",
      "source": [
        "a=10\n",
        "b=8\n",
        "print(a&b) # AND\n",
        "print(a|b) # OR\n",
        "print(a^b) # XOR\n",
        "print(~a)\n",
        "print(a<<2) # zero fill right shift --- add vlues  in right\n",
        "print(a>>1)# zero fill  left shift  -- cut value form right and add values in left\n"
      ],
      "metadata": {
        "colab": {
          "base_uri": "https://localhost:8080/"
        },
        "id": "y6ApN6zKocA8",
        "outputId": "e35a6694-10a8-49f8-9509-7bf22d2079cc"
      },
      "execution_count": 17,
      "outputs": [
        {
          "output_type": "stream",
          "name": "stdout",
          "text": [
            "8\n",
            "10\n",
            "2\n",
            "-11\n",
            "40\n",
            "5\n"
          ]
        }
      ]
    },
    {
      "cell_type": "code",
      "source": [
        "# membership operators\n",
        "# check the presence of a value in a sequence\n",
        "# in\n",
        "# not in\n",
        "a=\"helllo\"\n",
        "print(\"h\" in a)\n",
        "print(\"h\" not in a)"
      ],
      "metadata": {
        "colab": {
          "base_uri": "https://localhost:8080/"
        },
        "id": "zr5tVGAhppdb",
        "outputId": "e9d7e27e-d390-4d14-cd3a-cbfe0928a29d"
      },
      "execution_count": 18,
      "outputs": [
        {
          "output_type": "stream",
          "name": "stdout",
          "text": [
            "True\n",
            "False\n"
          ]
        }
      ]
    },
    {
      "cell_type": "markdown",
      "source": [
        "**conditional statements**"
      ],
      "metadata": {
        "id": "rBjK3DBNqSGR"
      }
    },
    {
      "cell_type": "code",
      "source": [
        "# if statement\n",
        "a=10\n",
        "if a>3:\n",
        "  print(\"a is greater than 3\")"
      ],
      "metadata": {
        "colab": {
          "base_uri": "https://localhost:8080/"
        },
        "id": "brSBA9HLqY1z",
        "outputId": "ab7fd1c3-841e-4d4d-ba2d-9d7b8496180f"
      },
      "execution_count": 19,
      "outputs": [
        {
          "output_type": "stream",
          "name": "stdout",
          "text": [
            "a is greater than 3\n"
          ]
        }
      ]
    },
    {
      "cell_type": "code",
      "source": [
        "marks =87\n",
        "if marks >=90:\n",
        "  print(\"you will get phone grade\")\n",
        "\n",
        "print(\"thankyou for joining\")\n"
      ],
      "metadata": {
        "colab": {
          "base_uri": "https://localhost:8080/"
        },
        "id": "8TY_lvTZrCKo",
        "outputId": "a7c16ac1-c651-4f1d-9738-d51c3e203bf0"
      },
      "execution_count": 23,
      "outputs": [
        {
          "output_type": "stream",
          "name": "stdout",
          "text": [
            "thankyou for joining\n"
          ]
        }
      ]
    },
    {
      "cell_type": "code",
      "source": [
        "marks=87\n",
        "if marks >=90:\n",
        "  print(\"you will get phone grade\")\n",
        "else: # no condition with else\n",
        "  print(\"you will not get phone grade\")\n",
        "\n",
        "print(\"thankyou for joining\")"
      ],
      "metadata": {
        "colab": {
          "base_uri": "https://localhost:8080/"
        },
        "id": "29lhZBBcrYyd",
        "outputId": "621eb6d5-9c1b-4420-e785-2d71098c42f7"
      },
      "execution_count": 24,
      "outputs": [
        {
          "output_type": "stream",
          "name": "stdout",
          "text": [
            "you will not get phone grade\n",
            "thankyou for joining\n"
          ]
        }
      ]
    },
    {
      "cell_type": "code",
      "source": [
        "# if - elif - else\n",
        "marks =87\n",
        "if marks >=90:\n",
        "  print(\"you will get A grade\")\n",
        "elif marks >=80:\n",
        "  print(\"you will get B grade\")\n",
        "elif marks >=70:\n",
        "  print(\"you will get C grade\")\n",
        "elif marks >=60:\n",
        "  print(\"you will get D grade\")\n",
        "else:\n",
        "  print(\"fail\")"
      ],
      "metadata": {
        "colab": {
          "base_uri": "https://localhost:8080/"
        },
        "id": "CzuwgwuGqwiD",
        "outputId": "b678a064-1bb5-4f89-d3a3-7e1425dab9bd"
      },
      "execution_count": 20,
      "outputs": [
        {
          "output_type": "stream",
          "name": "stdout",
          "text": [
            "you will get B grade\n"
          ]
        }
      ]
    },
    {
      "cell_type": "code",
      "source": [
        "# nested if"
      ],
      "metadata": {
        "id": "H3AK5ltmsV2A"
      },
      "execution_count": null,
      "outputs": []
    },
    {
      "cell_type": "code",
      "source": [
        "if marks>=80:\n",
        "  print(\"you will get a new phone \")\n",
        "  if marks >=90:\n",
        "    print(\"you can go to a trip \")\n",
        "else :\n",
        "  print (\"you will not get a nothing \")"
      ],
      "metadata": {
        "colab": {
          "base_uri": "https://localhost:8080/"
        },
        "id": "7ZO2IM_Qsfge",
        "outputId": "339b76be-b8fc-47c1-8683-caa491320812"
      },
      "execution_count": 25,
      "outputs": [
        {
          "output_type": "stream",
          "name": "stdout",
          "text": [
            "you will get a new phone \n"
          ]
        }
      ]
    },
    {
      "cell_type": "code",
      "source": [
        "# short hand if statement\n",
        "marks=87\n",
        "if marks>=80: print(\"you will get a new phone \")\n",
        "# short hand if else statement\n",
        "print(\"you will get a new phone \") if marks>=80 else print(\"you will not get a nothing \") # no colon in it\n",
        "\n"
      ],
      "metadata": {
        "colab": {
          "base_uri": "https://localhost:8080/"
        },
        "id": "tC-LMDUqs5c7",
        "outputId": "9fcd7fc1-52ef-44f4-e695-b642c09f8ce5"
      },
      "execution_count": 28,
      "outputs": [
        {
          "output_type": "stream",
          "name": "stdout",
          "text": [
            "you will get a new phone \n",
            "you will get a new phone \n"
          ]
        }
      ]
    },
    {
      "cell_type": "markdown",
      "source": [
        "# *problem solving*"
      ],
      "metadata": {
        "id": "BK5B_Wy0XRLi"
      }
    },
    {
      "cell_type": "markdown",
      "source": [
        "**write a program to display a person's name,age and address in three different lines**"
      ],
      "metadata": {
        "id": "YT9733o2XqC3"
      }
    },
    {
      "cell_type": "code",
      "source": [
        "name=\"jon\"\n",
        "age =21\n",
        "address=\"london\"\n",
        "print(name)\n",
        "print(age)\n",
        "print(address)"
      ],
      "metadata": {
        "colab": {
          "base_uri": "https://localhost:8080/"
        },
        "id": "14h_iozsYtj_",
        "outputId": "9166d1c0-fa3c-4219-b804-bc4054f42d18"
      },
      "execution_count": null,
      "outputs": [
        {
          "output_type": "stream",
          "name": "stdout",
          "text": [
            "jon\n",
            "21\n",
            "london\n"
          ]
        }
      ]
    },
    {
      "cell_type": "markdown",
      "source": [
        "**write a profram to swap two variables**"
      ],
      "metadata": {
        "id": "xuVXE-HcX6XC"
      }
    },
    {
      "cell_type": "code",
      "source": [
        "a=2\n",
        "b=3\n",
        "# method b temperory variable temp\n",
        "temp=a\n",
        "a=b\n",
        "b=temp\n",
        "print(\"value of a : \",a)\n",
        "print( \"value of b : \",b)\n",
        "# method 2\n",
        "a=30\n",
        "b=40\n",
        "a,b=b,a\n",
        "print(\"value of a : \",a)\n",
        "print( \"value of b : \",b)\n"
      ],
      "metadata": {
        "colab": {
          "base_uri": "https://localhost:8080/"
        },
        "id": "9VFOD4T-Y7hl",
        "outputId": "cca4a03e-a897-4aa2-a5d5-8055772004d3"
      },
      "execution_count": null,
      "outputs": [
        {
          "output_type": "stream",
          "name": "stdout",
          "text": [
            "value of a :  3\n",
            "value of b :  2\n",
            "value of a :  40\n",
            "value of b :  30\n"
          ]
        }
      ]
    },
    {
      "cell_type": "markdown",
      "source": [
        "**write a program to convert a float into integer**"
      ],
      "metadata": {
        "id": "x_2eHSVSYCfZ"
      }
    },
    {
      "cell_type": "code",
      "source": [
        "x=122.4\n",
        "print(type(x))\n",
        "x=int(x)\n",
        "print(type(x))\n",
        "print(x)"
      ],
      "metadata": {
        "colab": {
          "base_uri": "https://localhost:8080/"
        },
        "id": "ZTUmO58YZ3Rv",
        "outputId": "289ed14e-7fe6-43e9-e058-646545340c21"
      },
      "execution_count": null,
      "outputs": [
        {
          "output_type": "stream",
          "name": "stdout",
          "text": [
            "<class 'float'>\n",
            "<class 'int'>\n",
            "122\n"
          ]
        }
      ]
    },
    {
      "cell_type": "markdown",
      "source": [
        "**write a program to take details from a student for ID-card and then print in different lines**"
      ],
      "metadata": {
        "id": "bfz0PxcfYJP1"
      }
    },
    {
      "cell_type": "code",
      "source": [
        "print (\"student identity card \")\n",
        "name =input (\"enter your name :\")\n",
        "age =int(input (\"enter your age :\"))\n",
        "address=input(\"enter your address :\")\n",
        "email=input(\"enter your email :\")\n",
        "print(\"name : \",name)\n",
        "print(\"age : \",age)\n",
        "print(\"address : \",address)\n",
        "print(\"email : \",email)\n"
      ],
      "metadata": {
        "colab": {
          "base_uri": "https://localhost:8080/"
        },
        "id": "oUUEdqELaAR3",
        "outputId": "836ac881-3ec4-4e5d-84a6-326a28f4a473"
      },
      "execution_count": null,
      "outputs": [
        {
          "output_type": "stream",
          "name": "stdout",
          "text": [
            "student identity card \n",
            "enter your name :jon\n",
            "enter your age :20\n",
            "enter your address :qwertshe\n",
            "enter your email :jon@gamil.com\n",
            "name :  jon\n",
            "age :  20\n",
            "address :  qwertshe\n",
            "email :  jon@gamil.com\n"
          ]
        }
      ]
    },
    {
      "cell_type": "markdown",
      "source": [
        "**write a program to take an user input as integer then convert to float**"
      ],
      "metadata": {
        "id": "J6vczjQ8YYxs"
      }
    },
    {
      "cell_type": "code",
      "source": [
        "a=int(input(\"enter a number :\"))\n",
        "print(type(a))\n",
        "a=float(a)\n",
        "print(type(a))\n",
        "print(a)"
      ],
      "metadata": {
        "colab": {
          "base_uri": "https://localhost:8080/"
        },
        "id": "oh2_hJGaanEj",
        "outputId": "08eebd84-dc92-479a-ee1f-9633b1cad86c"
      },
      "execution_count": null,
      "outputs": [
        {
          "output_type": "stream",
          "name": "stdout",
          "text": [
            "enter a number :12\n",
            "<class 'int'>\n",
            "<class 'float'>\n",
            "12.0\n"
          ]
        }
      ]
    },
    {
      "cell_type": "markdown",
      "source": [
        "<!-- place holders -->"
      ],
      "metadata": {
        "id": "-3Amn_FuR9Pz"
      }
    },
    {
      "cell_type": "markdown",
      "source": [
        "**write a program to check if a number is positive**"
      ],
      "metadata": {
        "id": "lsqzP-Mitqn-"
      }
    },
    {
      "cell_type": "code",
      "source": [
        "num=int(input(\"enter a number :\"))\n",
        "if num>0:\n",
        "  print(\"number is positive\")\n",
        "else:\n",
        "  print(\"number is negative\")"
      ],
      "metadata": {
        "colab": {
          "base_uri": "https://localhost:8080/"
        },
        "id": "y9f0dlvsuuqg",
        "outputId": "4d04c8a7-de28-48d6-8b1c-5f6a3de83db2"
      },
      "execution_count": 3,
      "outputs": [
        {
          "output_type": "stream",
          "name": "stdout",
          "text": [
            "enter a number :-21\n",
            "number is negative\n"
          ]
        }
      ]
    },
    {
      "cell_type": "markdown",
      "source": [
        "**write a program to check whether a number is odd and even**"
      ],
      "metadata": {
        "id": "0B1muB34t4m9"
      }
    },
    {
      "cell_type": "code",
      "source": [
        "num=int(input(\"enter a number :\"))\n",
        "if num%2==0:\n",
        "  print(\"number is even\")\n",
        "else:\n",
        "  print(\"number is odd\")"
      ],
      "metadata": {
        "colab": {
          "base_uri": "https://localhost:8080/"
        },
        "id": "49LXGic8GGhB",
        "outputId": "3564d5d8-a561-4f9c-a330-8e5428eb8c59"
      },
      "execution_count": 5,
      "outputs": [
        {
          "output_type": "stream",
          "name": "stdout",
          "text": [
            "enter a number :3\n",
            "number is odd\n"
          ]
        }
      ]
    },
    {
      "cell_type": "markdown",
      "source": [
        "**write a program to create area calculator**"
      ],
      "metadata": {
        "id": "Rrj1eoVeuCIk"
      }
    },
    {
      "cell_type": "code",
      "source": [
        "print(\"++++ AREA CALCULATOR ++++++\")\n",
        "print(\"press 1 for area of circle\")\n",
        "print(\"press 2 for area of rectangle\")\n",
        "print(\"press 3 for area of triangle\")\n",
        "choice=int(input(\"enter your choice :\"))\n",
        "if choice==1:\n",
        "  radius=float(input(\"enter radius :\"))\n",
        "  area=3.14*radius*radius\n",
        "  print(\"area of circle is : \",area)\n",
        "  print(\"thank you for using area calculator\")\n",
        "\n",
        "elif choice==2:\n",
        "  length=float(input(\"enter length :\"))\n",
        "  breadth=float(input(\"enter breadth :\"))\n",
        "  area=length*breadth\n",
        "  print(\"area of rectangle is : \",area)\n",
        "  print(\"thank you for using area calculator\")\n",
        "\n",
        "elif choice==3:\n",
        "  base=float(input(\"enter base :\"))\n",
        "  height=float(input(\"enter height :\"))\n",
        "  area=0.5*base*height\n",
        "  print(\"area of triangle is : \",area)\n",
        "else :\n",
        "  print(\"invalid choice\")\n",
        "\n"
      ],
      "metadata": {
        "colab": {
          "base_uri": "https://localhost:8080/"
        },
        "id": "zZyQPCWpGYun",
        "outputId": "52317d4e-4b7c-4cd9-9b1c-3ba2780f4cc5"
      },
      "execution_count": 6,
      "outputs": [
        {
          "output_type": "stream",
          "name": "stdout",
          "text": [
            "++++ AREA CALCULATOR ++++++\n",
            "press 1 for area of circle\n",
            "press 2 for area of rectangle\n",
            "press 3 for area of triangle\n",
            "enter your choice :1\n",
            "enter radius :2\n",
            "area of circle is :  12.56\n",
            "thank you for using area calculator\n"
          ]
        }
      ]
    },
    {
      "cell_type": "markdown",
      "source": [
        "**write a program check whether the passed letter is a vowel or not**"
      ],
      "metadata": {
        "id": "E7nrHStXuUVy"
      }
    },
    {
      "cell_type": "code",
      "source": [
        "\n",
        "if (letter in \"aeiou\") or (letter in \"AEIOU\") :\n",
        "  print(\"letter is vowel\")\n",
        "else:\n",
        "  print(\"letter is not vowel\")"
      ],
      "metadata": {
        "id": "9AWC6hviHr2-"
      },
      "execution_count": null,
      "outputs": []
    },
    {
      "cell_type": "markdown",
      "source": [
        "**write a program to check if a number is a single digit number , 2 digit number and so on ..., up to 5 digit**"
      ],
      "metadata": {
        "id": "fK0SA-WsudRK"
      }
    },
    {
      "cell_type": "code",
      "source": [
        "num =int (input(\"enter a number :\"))\n",
        "if num<10:\n",
        "  print(\"single digit number\")\n",
        "elif num<100:\n",
        "  print(\"two digit number\")\n",
        "elif num<1000:\n",
        "  print(\"three digit number\")"
      ],
      "metadata": {
        "colab": {
          "base_uri": "https://localhost:8080/"
        },
        "id": "klgCY4rVutod",
        "outputId": "df3d8369-4467-41b8-ddf9-7b20e42293f3"
      },
      "execution_count": 8,
      "outputs": [
        {
          "output_type": "stream",
          "name": "stdout",
          "text": [
            "enter a number :10\n",
            "two digit number\n"
          ]
        }
      ]
    }
  ]
}